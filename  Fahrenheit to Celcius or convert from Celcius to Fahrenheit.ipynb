{
 "cells": [
  {
   "cell_type": "code",
   "execution_count": null,
   "id": "499b1295",
   "metadata": {},
   "outputs": [],
   "source": [
    "choice = int(input(\"Press 1 to convert from Fahrenheit to Celcius or Press 2 to convert from Celcius to Fahrenheit\"))\n",
    "temp = int(input(\"Enter temperature to be convert\"))\n",
    "if choice == 1:\n",
    "    result = (temp-32)/1.8\n",
    "    print(f\"{int(result)} celcius\")\n",
    "elif choice ==2:\n",
    "    result = (temp*1.8)+32\n",
    "    print(f\"{int(result)} fahrenheit\")\n",
    "else:\n",
    "    print(\"Invalid choice\")"
   ]
  },
  {
   "cell_type": "code",
   "execution_count": null,
   "id": "d0ec0a94",
   "metadata": {},
   "outputs": [],
   "source": []
  }
 ],
 "metadata": {
  "kernelspec": {
   "display_name": "Python 3 (ipykernel)",
   "language": "python",
   "name": "python3"
  },
  "language_info": {
   "codemirror_mode": {
    "name": "ipython",
    "version": 3
   },
   "file_extension": ".py",
   "mimetype": "text/x-python",
   "name": "python",
   "nbconvert_exporter": "python",
   "pygments_lexer": "ipython3",
   "version": "3.9.12"
  }
 },
 "nbformat": 4,
 "nbformat_minor": 5
}
