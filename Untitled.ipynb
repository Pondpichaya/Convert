{
 "cells": [
  {
   "cell_type": "code",
   "execution_count": 11,
   "id": "6d61dab4",
   "metadata": {},
   "outputs": [
    {
     "name": "stdout",
     "output_type": "stream",
     "text": [
      "Press 1 to convert from Fahrenheit to Celcius or Press 2 to convert from Celcius to Fahrenheit5\n",
      "Enter temperature to be convert5\n",
      "Invalid choice\n"
     ]
    }
   ],
   "source": [
    "choice = int(input(\"Press 1 to convert from Fahrenheit to Celcius or Press 2 to convert from Celcius to Fahrenheit\"))\n",
    "temp = int(input(\"Enter temperature to be convert\"))\n",
    "if choice == 1:\n",
    "    result = (temp-32)/1.8\n",
    "    print(f\"{int(result)} celcius\")\n",
    "elif choice ==2:\n",
    "    result = (temp*1.8)+32\n",
    "    print(f\"{int(result)} fahrenheit\")\n",
    "else:\n",
    "    print(\"Invalid choice\")"
   ]
  },
  {
   "cell_type": "code",
   "execution_count": null,
   "id": "c23a28af",
   "metadata": {},
   "outputs": [],
   "source": []
  }
 ],
 "metadata": {
  "kernelspec": {
   "display_name": "Python 3 (ipykernel)",
   "language": "python",
   "name": "python3"
  },
  "language_info": {
   "codemirror_mode": {
    "name": "ipython",
    "version": 3
   },
   "file_extension": ".py",
   "mimetype": "text/x-python",
   "name": "python",
   "nbconvert_exporter": "python",
   "pygments_lexer": "ipython3",
   "version": "3.9.12"
  }
 },
 "nbformat": 4,
 "nbformat_minor": 5
}
